{
 "metadata": {
  "name": "",
  "signature": "sha256:0757df54ef8b9b389cf051fd93b718457d76b76008966d0d45b07ce78e31a1f3"
 },
 "nbformat": 3,
 "nbformat_minor": 0,
 "worksheets": [
  {
   "cells": [
    {
     "cell_type": "heading",
     "level": 1,
     "metadata": {},
     "source": [
      "CSE 628 Fine vs. Coarse\u2010grained Categories for POS Tagging Assignment I"
     ]
    },
    {
     "cell_type": "code",
     "collapsed": false,
     "input": [
      "from pandas import *\n",
      "from pylab import *\n",
      "from numpy import *\n",
      "import nltk\n",
      "import csv\n",
      "from nltk.corpus import treebank\n",
      "from operator import itemgetter, attrgetter"
     ],
     "language": "python",
     "metadata": {},
     "outputs": [],
     "prompt_number": 1
    },
    {
     "cell_type": "code",
     "collapsed": false,
     "input": [
      "treebank_tagged_sents = treebank.tagged_sents()"
     ],
     "language": "python",
     "metadata": {},
     "outputs": [],
     "prompt_number": 2
    },
    {
     "cell_type": "heading",
     "level": 2,
     "metadata": {},
     "source": [
      "Part I: POS Tagging using fine-grained Penn Tree Bank (PTB) categories"
     ]
    },
    {
     "cell_type": "code",
     "collapsed": false,
     "input": [
      "train_sents = treebank_tagged_sents[:500]           #train sentences for fine grained tagging\n",
      "test_sents = treebank_tagged_sents[501:1001]        #test sentences for fine grained tagging"
     ],
     "language": "python",
     "metadata": {},
     "outputs": [],
     "prompt_number": 3
    },
    {
     "cell_type": "code",
     "collapsed": false,
     "input": [
      "#calculating bigram tagger\n",
      "t0 = nltk.DefaultTagger('NN')\n",
      "t1 = nltk.UnigramTagger(train_sents, backoff=t0)\n",
      "t2 = nltk.BigramTagger(train_sents, backoff=t1)"
     ],
     "language": "python",
     "metadata": {},
     "outputs": [],
     "prompt_number": 4
    },
    {
     "cell_type": "code",
     "collapsed": false,
     "input": [
      "#function to predict fine grained tagging for the test sentences\n",
      "def predict_fine(test_sent):\n",
      "    fine_sents = []\n",
      "    for tag in test_sent:\n",
      "        tag = list(tag)\n",
      "        fine_sents.append((tag[0],t2.tag(tag)[0][1]))\n",
      "    return tuple(fine_sents)"
     ],
     "language": "python",
     "metadata": {},
     "outputs": [],
     "prompt_number": 5
    },
    {
     "cell_type": "code",
     "collapsed": false,
     "input": [
      "#file to save fine grained predictions\n",
      "fp = file('part-I-predictions.tsv', 'wb')\n",
      "#w1 = csv.writer()\n",
      "w = csv.writer(fp, delimiter='\\t')\n",
      "\n",
      "count = 1\n",
      "title = \"Id\"\n",
      "title2 = \"sentence w/ actual fine tags\"\n",
      "title3 = \"sentence w/ predicted fine tags\"\n",
      "heading = title,title2,title3\n",
      "w.writerow(heading)\n",
      "#w.writerow(\"Id sentence w/ actual coarse tags   sentence w/ predicted tags\")\n",
      "for i in range(len(test_sents)):\n",
      "    row =  count, test_sents[i],predict_fine(test_sents[i])\n",
      "    w.writerow(row)\n",
      "    count = count+1\n",
      "fp.close()"
     ],
     "language": "python",
     "metadata": {},
     "outputs": [],
     "prompt_number": 6
    },
    {
     "cell_type": "heading",
     "level": 2,
     "metadata": {},
     "source": [
      "Part II: POS Tagging using Coarse-grained POS categories"
     ]
    },
    {
     "cell_type": "code",
     "collapsed": false,
     "input": [
      "tag_map = {\"SNN\":[\"NN\", \"NNS\", \"NNP\", \"NNPS\", \"PRP\", \"PRP$\"], \"SVB\" : [\"VB\", \"VBP\", \"VBD\", \"VBN\", \"VBZ\", \"VBG\"], \"SJJ\" : [\"JJ\", \"JJR\", \"JJS\"], \"SRB\" : [\"RB\", \"RBR\", \"RBS\"]}"
     ],
     "language": "python",
     "metadata": {},
     "outputs": [],
     "prompt_number": 7
    },
    {
     "cell_type": "code",
     "collapsed": false,
     "input": [
      "#function to map fine tagging to coarse tagging\n",
      "def coarse_tagging(test_sent):\n",
      "    coarse_sent = []\n",
      "    #for j in range (len(test_sents)):\n",
      "    for tag in test_sent:\n",
      "        found = 0\n",
      "        tag = list(tag)\n",
      "        for k, v in tag_map.iteritems():\n",
      "            for i in range(len(v)):\n",
      "                if (v[i] == tag[1]):\n",
      "                    found = 1\n",
      "                    tag[1] = k\n",
      "        if found == 0:\n",
      "            tag[1] = \"MISC\"\n",
      "        coarse_sent.append((tag[0],tag[1]))\n",
      "    return tuple(coarse_sent)"
     ],
     "language": "python",
     "metadata": {},
     "outputs": [],
     "prompt_number": 8
    },
    {
     "cell_type": "heading",
     "level": 3,
     "metadata": {},
     "source": [
      "Method A Train on Fine-grained and post-process to coarse-grained."
     ]
    },
    {
     "cell_type": "code",
     "collapsed": false,
     "input": [
      "#file to save coarse grained predictions Method A\n",
      "fp = file('Method-A-predictions.tsv', 'wb')\n",
      "#w1 = csv.writer()\n",
      "w = csv.writer(fp, delimiter='\\t')\n",
      "\n",
      "count = 1\n",
      "title = \"Id\"\n",
      "title2 = \"sentence w/ actual coarse tags\"\n",
      "title3 = \"sentence w/ predicted coarse tags\"\n",
      "heading = title,title2,title3\n",
      "w.writerow(heading)\n",
      "#w.writerow(\"Id sentence w/ actual coarse tags   sentence w/ predicted tags\")\n",
      "for i in range(len(test_sents)):\n",
      "    row =  count, coarse_tagging(test_sents[i]),coarse_tagging(predict_fine(test_sents[i]))\n",
      "    w.writerow(row)\n",
      "    count = count+1\n",
      "fp.close()"
     ],
     "language": "python",
     "metadata": {},
     "outputs": [],
     "prompt_number": 9
    },
    {
     "cell_type": "code",
     "collapsed": false,
     "input": [
      "#saving the methodA generated test sentences to coarse_actual and coarse_predicted\n",
      "test1= []\n",
      "test2 = []\n",
      "coarse_actual = []\n",
      "coarse_predicted = []\n",
      "for i in range(len(test_sents)):\n",
      "    test1.append(coarse_tagging(test_sents[i]))\n",
      "    coarse_actual.append(test1[i])\n",
      "    test2.append(coarse_tagging(predict_fine(test_sents[i])))\n",
      "    coarse_predicted.append(test2[i])"
     ],
     "language": "python",
     "metadata": {},
     "outputs": [],
     "prompt_number": 10
    },
    {
     "cell_type": "heading",
     "level": 3,
     "metadata": {},
     "source": [
      "Method B: Train and test on coarse-grained."
     ]
    },
    {
     "cell_type": "code",
     "collapsed": false,
     "input": [
      "#coarse tagging 1000 sentences of Penn Treebank corpus\n",
      "sentences = treebank_tagged_sents[0:1000]\n",
      "test_sentences = []\n",
      "coarse_sentences = []\n",
      "for i in range(len(sentences)):\n",
      "    test_sentences.append(coarse_tagging(sentences[i]))\n",
      "    coarse_sentences.append(test_sentences[i])"
     ],
     "language": "python",
     "metadata": {},
     "outputs": [],
     "prompt_number": 11
    },
    {
     "cell_type": "code",
     "collapsed": false,
     "input": [
      "coarse_train_sents = list(coarse_sentences[0:500])                    #train sentences for coarse grained tagging\n",
      "coarse_test_sents = list(coarse_sentences[501:1000])                  #test sentences for coarse grained tagging"
     ],
     "language": "python",
     "metadata": {},
     "outputs": [],
     "prompt_number": 12
    },
    {
     "cell_type": "code",
     "collapsed": false,
     "input": [
      "#Bigram tagger for coarse sentences\n",
      "coarse_t0 = nltk.DefaultTagger('SNN')\n",
      "coarse_t1 = nltk.UnigramTagger(coarse_train_sents, backoff=coarse_t0)\n",
      "coarse_t2 = nltk.BigramTagger(coarse_train_sents, backoff=coarse_t1)"
     ],
     "language": "python",
     "metadata": {},
     "outputs": [],
     "prompt_number": 13
    },
    {
     "cell_type": "code",
     "collapsed": false,
     "input": [
      "#function to predict coarse grained tagging for the test sentences\n",
      "def predict_coarse(test_sent):\n",
      "    coarse_sents = []\n",
      "    for tag in test_sent:\n",
      "        tag = list(tag)\n",
      "        coarse_sents.append((tag[0],coarse_t2.tag(tag)[0][1]))\n",
      "    return tuple(coarse_sents)"
     ],
     "language": "python",
     "metadata": {},
     "outputs": [],
     "prompt_number": 14
    },
    {
     "cell_type": "code",
     "collapsed": false,
     "input": [
      "#file to save coarse grained predictions Method B\n",
      "fp = file('Method-B-predictions.tsv', 'wb')\n",
      "#w1 = csv.writer()\n",
      "w = csv.writer(fp, delimiter='\\t')\n",
      "\n",
      "count = 1\n",
      "title = \"Id\"\n",
      "title2 = \"sentence w/ actual coarse tags\"\n",
      "title3 = \"sentence w/ predicted coarse tags\"\n",
      "heading = title,title2,title3\n",
      "w.writerow(heading)\n",
      "#w.writerow(\"Id sentence w/ actual coarse tags   sentence w/ predicted tags\")\n",
      "for i in range(len(coarse_test_sents)):\n",
      "    row =  count, coarse_test_sents[i],predict_coarse(coarse_test_sents[i])\n",
      "    w.writerow(row)\n",
      "    count = count+1\n",
      "fp.close()"
     ],
     "language": "python",
     "metadata": {},
     "outputs": [],
     "prompt_number": 15
    },
    {
     "cell_type": "heading",
     "level": 2,
     "metadata": {},
     "source": [
      "Evaluation "
     ]
    },
    {
     "cell_type": "code",
     "collapsed": false,
     "input": [
      "#function to predict overall accuracy for all three types of tagging\n",
      "def overall_accuracy(sentences , tagging):\n",
      "    same_count = 0\n",
      "    total_count = 0\n",
      "    if tagging == 'coarseA':\n",
      "        for i in range(len(coarse_actual)):\n",
      "            for tag1,tag2 in zip (coarse_actual[i], coarse_predicted[i]):\n",
      "                if tag1[1] == tag2[1]:\n",
      "                    same_count = same_count +1\n",
      "                total_count = total_count + 1\n",
      "        return float(same_count)/total_count * 100\n",
      "    for i in range(len(sentences)):\n",
      "        for tag in sentences[i]:\n",
      "            if tagging == 'fine':\n",
      "                if tag[1] == t2.tag(tag)[0][1]:\n",
      "                    same_count = same_count +1\n",
      "            if tagging == 'coarseB':\n",
      "                if tag[1] == coarse_t2.tag(tag)[0][1]:\n",
      "                    same_count = same_count +1\n",
      "            total_count = total_count + 1\n",
      "    return float(same_count)/total_count * 100"
     ],
     "language": "python",
     "metadata": {},
     "outputs": [],
     "prompt_number": 16
    },
    {
     "cell_type": "code",
     "collapsed": false,
     "input": [
      "#Part 1\n",
      "print \"Overall Accuracy for Part 1: \" + str(overall_accuracy(test_sents, 'fine')) "
     ],
     "language": "python",
     "metadata": {},
     "outputs": [
      {
       "output_type": "stream",
       "stream": "stdout",
       "text": [
        "Overall Accuracy for Part 1: 76.0590195145\n"
       ]
      }
     ],
     "prompt_number": 17
    },
    {
     "cell_type": "code",
     "collapsed": false,
     "input": [
      "#Part 2 Method A\n",
      "print \"Overall Accuracy for Part 2 Method A: \" + str(overall_accuracy(test_sents, 'coarseA')) "
     ],
     "language": "python",
     "metadata": {},
     "outputs": [
      {
       "output_type": "stream",
       "stream": "stdout",
       "text": [
        "Overall Accuracy for Part 2 Method A: 87.704267809\n"
       ]
      }
     ],
     "prompt_number": 18
    },
    {
     "cell_type": "code",
     "collapsed": false,
     "input": [
      "#Part 2 Method B\n",
      "print \"Overall Accuracy for Part 2 Method B: \" + str(overall_accuracy(coarse_test_sents, 'coarseB')) "
     ],
     "language": "python",
     "metadata": {},
     "outputs": [
      {
       "output_type": "stream",
       "stream": "stdout",
       "text": [
        "Overall Accuracy for Part 2 Method B: 87.7872306591\n"
       ]
      }
     ],
     "prompt_number": 19
    },
    {
     "cell_type": "code",
     "collapsed": false,
     "input": [
      "#per tag accuracy or all three types of tagging\n",
      "def per_tag_accuracy(sentences, tagging, indiv_tag):\n",
      "    same_count = 0\n",
      "    total_count = 0\n",
      "    if tagging == 'coarseA':\n",
      "        for i in range(len(coarse_actual)):\n",
      "            for tag1,tag2 in zip (coarse_actual[i], coarse_predicted[i]):\n",
      "                if tag1[1] == indiv_tag:\n",
      "                    if tag1[1] == tag2[1]:\n",
      "                        same_count = same_count +1\n",
      "                    total_count = total_count + 1        \n",
      "        return float(same_count)/total_count * 100\n",
      "    for i in range(len(sentences)):\n",
      "        for tag in sentences[i]:\n",
      "            if tag[1] == indiv_tag:\n",
      "                if tagging == 'fine':\n",
      "                    if tag[1] == t2.tag(tag)[0][1]:\n",
      "                        same_count = same_count +1\n",
      "                if tagging == 'coarseB':\n",
      "                    if tag[1] == coarse_t2.tag(tag)[0][1]:\n",
      "                        same_count = same_count +1\n",
      "                total_count = total_count + 1\n",
      "    return float(same_count)/total_count * 100\n",
      "    \n",
      "def individual_tag(per_tag_sent, type_of_tagging):\n",
      "    tag_table = []\n",
      "    if type_of_tagging == 'fine':\n",
      "        tags = []\n",
      "        for i in range(len(train_sents)):\n",
      "            for tag in train_sents[i]:\n",
      "                if tag[1] not in tags:\n",
      "                    tags.append(tag[1])\n",
      "        #tags = ['JJ', 'NN', 'NNP', 'NNPS', 'RB', 'RP', 'IN', 'VB', 'VBD', 'VBN', 'VBP']\n",
      "    if type_of_tagging == 'coarseB' or type_of_tagging == 'coarseA':\n",
      "        tags = ['SNN', 'SJJ', 'SRB', 'SVB', 'MISC']\n",
      "    for i in tags:\n",
      "            tag_table.append((i,per_tag_accuracy(per_tag_sent, type_of_tagging, i)))\n",
      "    tag_table = sorted(tag_table, key=itemgetter(1),reverse=True)\n",
      "    for i in range(len(tag_table)):\n",
      "        print tag_table[i]"
     ],
     "language": "python",
     "metadata": {},
     "outputs": [],
     "prompt_number": 20
    },
    {
     "cell_type": "code",
     "collapsed": false,
     "input": [
      "#Part 1\n",
      "print \"Individual Tag Accuracy for Part 1: \" \n",
      "print individual_tag(test_sents,'fine')"
     ],
     "language": "python",
     "metadata": {},
     "outputs": [
      {
       "output_type": "stream",
       "stream": "stdout",
       "text": [
        "Individual Tag Accuracy for Part 1: \n",
        "(u',', 100.0)"
       ]
      },
      {
       "output_type": "stream",
       "stream": "stdout",
       "text": [
        "\n",
        "(u'.', 100.0)\n",
        "(u'POS', 100.0)\n",
        "(u'``', 100.0)\n",
        "(u'EX', 100.0)\n",
        "(u':', 100.0)\n",
        "(u'$', 100.0)\n",
        "(u'WP$', 100.0)\n",
        "(u'-LRB-', 100.0)\n",
        "(u'-RRB-', 100.0)\n",
        "(u'CC', 99.66101694915255)\n",
        "(u'DT', 99.32497589199615)\n",
        "(u\"''\", 99.20634920634922)\n",
        "(u'TO', 98.06949806949807)\n",
        "(u'IN', 97.82958199356914)\n",
        "(u'PRP', 97.52650176678446)\n",
        "(u'MD', 96.55172413793103)\n",
        "(u'NN', 95.1219512195122)\n",
        "(u'WP', 94.11764705882352)\n",
        "(u'WRB', 93.54838709677419)\n",
        "(u'-NONE-', 90.09661835748793)\n",
        "(u'RP', 78.37837837837837)\n",
        "(u'PRP$', 67.76859504132231)\n",
        "(u'RB', 67.6829268292683)\n",
        "(u'VBP', 67.05882352941175)\n",
        "(u'VBZ', 66.24605678233438)\n",
        "(u'CD', 64.28571428571429)\n",
        "(u'JJS', 62.5)\n",
        "(u'VBD', 62.149532710280376)\n",
        "(u'RBR', 55.55555555555556)\n",
        "(u'JJR', 43.47826086956522)\n",
        "(u'VB', 41.69381107491857)\n",
        "(u'JJ', 41.340075853350186)\n",
        "(u'WDT', 41.17647058823529)\n",
        "(u'NNP', 40.34511092851273)\n",
        "(u'VBG', 36.81318681318682)\n",
        "(u'VBN', 34.177215189873415)\n",
        "(u'NNS', 33.5149863760218)\n",
        "(u'NNPS', 2.7027027027027026)\n",
        "(u'PDT', 0.0)\n",
        "(u'RBS', 0.0)\n",
        "(u'FW', 0.0)\n",
        "None\n"
       ]
      }
     ],
     "prompt_number": 21
    },
    {
     "cell_type": "code",
     "collapsed": false,
     "input": [
      "#Part 1\n",
      "print \"Individual Tag Accuracy for Part 2 Method A: \" \n",
      "print individual_tag(test_sents,'coarseA')"
     ],
     "language": "python",
     "metadata": {},
     "outputs": [
      {
       "output_type": "stream",
       "stream": "stdout",
       "text": [
        "Individual Tag Accuracy for Part 2 Method A: \n",
        "('SNN', 97.89526434477574)\n",
        "('MISC', 96.30141721396474)\n",
        "('SRB', 66.28571428571428)\n",
        "('SVB', 60.51188299817185)\n",
        "('SJJ', 42.004773269689736)\n",
        "None\n"
       ]
      }
     ],
     "prompt_number": 22
    },
    {
     "cell_type": "code",
     "collapsed": false,
     "input": [
      "#Part 1\n",
      "print \"Individual Tag Accuracy for Part 2 Method B: \" \n",
      "print individual_tag(coarse_test_sents,'coarseB')"
     ],
     "language": "python",
     "metadata": {},
     "outputs": [
      {
       "output_type": "stream",
       "stream": "stdout",
       "text": [
        "Individual Tag Accuracy for Part 2 Method B: \n",
        "('SNN', 98.3676544450025)"
       ]
      },
      {
       "output_type": "stream",
       "stream": "stdout",
       "text": [
        "\n",
        "('MISC', 96.2584444829378)\n",
        "('SRB', 67.0487106017192)\n",
        "('SVB', 60.07326007326007)\n",
        "('SJJ', 41.796407185628745)\n",
        "None\n"
       ]
      }
     ],
     "prompt_number": 23
    },
    {
     "cell_type": "heading",
     "level": 3,
     "metadata": {},
     "source": [
      "Confusion Matrix"
     ]
    },
    {
     "cell_type": "code",
     "collapsed": false,
     "input": [
      "#Function to display confusion matrix in a tabular column\n",
      "def display_confusion_matrix(matrix):\n",
      "    strings = [[str(i) for i in row] for row in matrix]\n",
      "    lengths = [max(map(len, col)) for col in zip(*strings)]\n",
      "    formt = '\\t'.join('{{:{}}}'.format(x) for x in lengths)\n",
      "    table = [formt.format(*row) for row in strings]\n",
      "    print '\\n'.join(table)"
     ],
     "language": "python",
     "metadata": {},
     "outputs": [],
     "prompt_number": 24
    },
    {
     "cell_type": "heading",
     "level": 5,
     "metadata": {},
     "source": [
      "Part 1 "
     ]
    },
    {
     "cell_type": "code",
     "collapsed": false,
     "input": [
      "#Tags for fine grained tagging\n",
      "tags = ['JJ', 'NN', 'NNP', 'NNPS', 'RB', 'RP', 'IN', 'VB', 'VBD', 'VBN', 'VBP']"
     ],
     "language": "python",
     "metadata": {},
     "outputs": [],
     "prompt_number": 25
    },
    {
     "cell_type": "code",
     "collapsed": false,
     "input": [
      "#Calculating the values in confusion matrix for Part 1\n",
      "confusion_matrix =[[0 for x in range(12)] for x in range(12)] \n",
      "for i in range(1,12):\n",
      "    confusion_matrix[0][i] = tags[i-1]\n",
      "    confusion_matrix[i][0] = tags[i-1]\n",
      "def count_confusion_matrix(sentences):\n",
      "    for i in range(len(sentences)):\n",
      "        for tag in sentences[i]:\n",
      "            for j in range(1,12):\n",
      "                if tag[1] == confusion_matrix[j][0]:\n",
      "                    for k in range(1,12):\n",
      "                        if t2.tag(tag)[0][1] == confusion_matrix[0][k]:\n",
      "                            confusion_matrix[j][k] = confusion_matrix[j][k]+1\n",
      "count_confusion_matrix(test_sents)"
     ],
     "language": "python",
     "metadata": {},
     "outputs": [],
     "prompt_number": 26
    },
    {
     "cell_type": "code",
     "collapsed": false,
     "input": [
      "print \"Confusion matrix for Part 1\"\n",
      "display_confusion_matrix(confusion_matrix)"
     ],
     "language": "python",
     "metadata": {},
     "outputs": [
      {
       "output_type": "stream",
       "stream": "stdout",
       "text": [
        "Confusion matrix for Part 1\n",
        "0   \tJJ \tNN  \tNNP\tNNPS\tRB \tRP\tIN  \tVB \tVBD\tVBN\tVBP\n",
        "JJ  \t327\t432 \t2  \t0   \t13 \t0 \t2   \t1  \t0  \t8  \t2  \n",
        "NN  \t13 \t1521\t4  \t0   \t0  \t0 \t0   \t43 \t0  \t1  \t7  \n",
        "NNP \t7  \t718 \t491\t1   \t0  \t0 \t0   \t0  \t0  \t0  \t0  \n",
        "NNPS\t0  \t32  \t4  \t1   \t0  \t0 \t0   \t0  \t0  \t0  \t0  \n",
        "RB  \t7  \t72  \t0  \t0   \t222\t5 \t13  \t1  \t0  \t0  \t0  \n",
        "RP  \t0  \t1   \t0  \t0   \t3  \t29\t4   \t0  \t0  \t0  \t0  \n",
        "IN  \t2  \t16  \t0  \t0   \t2  \t3 \t1217\t0  \t0  \t0  \t0  \n",
        "VB  \t3  \t135 \t0  \t0   \t0  \t0 \t0   \t128\t0  \t3  \t38 \n",
        "VBD \t0  \t115 \t0  \t0   \t0  \t0 \t0   \t1  \t266\t46 \t0  \n",
        "VBN \t0  \t131 \t0  \t0   \t0  \t0 \t0   \t1  \t24 \t81 \t0  \n",
        "VBP \t0  \t41  \t0  \t0   \t0  \t0 \t1   \t13 \t0  \t1  \t114\n"
       ]
      }
     ],
     "prompt_number": 27
    },
    {
     "cell_type": "heading",
     "level": 5,
     "metadata": {},
     "source": [
      "Part 2 Method A"
     ]
    },
    {
     "cell_type": "code",
     "collapsed": false,
     "input": [
      "#Part2 Method A Confusion Matrix\n",
      "tags_coarse = ['SNN', 'SJJ', 'SRB', 'SVB', 'MISC']\n",
      "confusion_matrix_coarseA =[[0 for x in range(6)] for x in range(6)] \n",
      "for i in range(1,6):\n",
      "    confusion_matrix_coarseA[0][i] = tags_coarse[i-1]\n",
      "    confusion_matrix_coarseA[i][0] = tags_coarse[i-1]\n",
      "def count_confusion_matrix_coarseA():\n",
      "    for i in range(len(coarse_actual)):\n",
      "        for tag1,tag2 in zip(coarse_actual[i],coarse_predicted[i]):\n",
      "            for j in range(1,6):\n",
      "                if tag1[1] == confusion_matrix_coarseA[j][0]:\n",
      "                    for k in range(1,6):\n",
      "                        if tag2[1] == confusion_matrix_coarseA[0][k]:\n",
      "                            confusion_matrix_coarseA[j][k] = confusion_matrix_coarseA[j][k]+1\n",
      "count_confusion_matrix_coarseA()"
     ],
     "language": "python",
     "metadata": {},
     "outputs": [],
     "prompt_number": 28
    },
    {
     "cell_type": "code",
     "collapsed": false,
     "input": [
      "print \"Confusion matrix for Part 2 Method A\"\n",
      "display_confusion_matrix(confusion_matrix_coarseA)"
     ],
     "language": "python",
     "metadata": {},
     "outputs": [
      {
       "output_type": "stream",
       "stream": "stdout",
       "text": [
        "Confusion matrix for Part 2 Method A\n",
        "0   \tSNN \tSJJ\tSRB\tSVB\tMISC\n",
        "SNN \t3907\t20 \t0  \t58 \t6   \n",
        "SJJ \t448 \t352\t21 \t12 \t5   \n",
        "SRB \t73  \t22 \t232\t1  \t22  \n",
        "SVB \t627 \t3  \t0  \t993\t18  \n",
        "MISC\t206 \t2  \t6  \t0  \t5572\n"
       ]
      }
     ],
     "prompt_number": 29
    },
    {
     "cell_type": "heading",
     "level": 5,
     "metadata": {},
     "source": [
      "Part 2 Method B"
     ]
    },
    {
     "cell_type": "code",
     "collapsed": false,
     "input": [
      "#Part2 Method B\n",
      "tags_coarse = ['SNN', 'SJJ', 'SRB', 'SVB', 'MISC']\n",
      "confusion_matrix_coarseB =[[0 for x in range(6)] for x in range(6)] \n",
      "for i in range(1,6):\n",
      "    confusion_matrix_coarseB[0][i] = tags_coarse[i-1]\n",
      "    confusion_matrix_coarseB[i][0] = tags_coarse[i-1]\n",
      "def count_confusion_matrix_coarseB(sentences):\n",
      "    for i in range(len(sentences)):\n",
      "        for tag in sentences[i]:\n",
      "            for j in range(1,6):\n",
      "                if tag[1] == confusion_matrix_coarseB[j][0]:\n",
      "                    for k in range(1,6):\n",
      "                        if coarse_t2.tag(tag)[0][1] == confusion_matrix_coarseB[0][k]:\n",
      "                            confusion_matrix_coarseB[j][k] = confusion_matrix_coarseB[j][k]+1\n",
      "count_confusion_matrix_coarseB(coarse_test_sents)"
     ],
     "language": "python",
     "metadata": {},
     "outputs": [],
     "prompt_number": 30
    },
    {
     "cell_type": "code",
     "collapsed": false,
     "input": [
      "print \"Confusion matrix for Part 2 Method B\"\n",
      "display_confusion_matrix(confusion_matrix_coarseB)"
     ],
     "language": "python",
     "metadata": {},
     "outputs": [
      {
       "output_type": "stream",
       "stream": "stdout",
       "text": [
        "Confusion matrix for Part 2 Method B\n",
        "0   \tSNN \tSJJ\tSRB\tSVB\tMISC\n",
        "SNN \t3917\t23 \t1  \t35 \t6   \n",
        "SJJ \t448 \t349\t23 \t10 \t5   \n",
        "SRB \t74  \t21 \t234\t0  \t20  \n",
        "SVB \t632 \t4  \t0  \t984\t18  \n",
        "MISC\t206 \t2  \t8  \t0  \t5557\n"
       ]
      }
     ],
     "prompt_number": 31
    }
   ],
   "metadata": {}
  }
 ]
}